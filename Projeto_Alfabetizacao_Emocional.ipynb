{
  "nbformat": 4,
  "nbformat_minor": 0,
  "metadata": {
    "colab": {
      "provenance": [],
      "include_colab_link": true
    },
    "kernelspec": {
      "name": "python3",
      "display_name": "Python 3"
    },
    "language_info": {
      "name": "python"
    }
  },
  "cells": [
    {
      "cell_type": "markdown",
      "metadata": {
        "id": "view-in-github",
        "colab_type": "text"
      },
      "source": [
        "<a href=\"https://colab.research.google.com/github/evanmeira/alfabetizacao-emocional/blob/main/Projeto_Alfabetizacao_Emocional.ipynb\" target=\"_parent\"><img src=\"https://colab.research.google.com/assets/colab-badge.svg\" alt=\"Open In Colab\"/></a>"
      ]
    },
    {
      "cell_type": "code",
      "source": [
        "%pip -q install google-genai"
      ],
      "metadata": {
        "id": "UCCbECexLk_h"
      },
      "execution_count": null,
      "outputs": []
    },
    {
      "cell_type": "code",
      "source": [
        "# Configura a API Key do Google Gemini\n",
        "import os\n",
        "from google.colab import userdata\n",
        "\n",
        "os.environ[\"GOOGLE_API_KEY\"] = userdata.get('GOOGLE_API_KEY')"
      ],
      "metadata": {
        "id": "NfCqHo1tLk8P"
      },
      "execution_count": null,
      "outputs": []
    },
    {
      "cell_type": "code",
      "source": [
        "# Configura o cliente da SDK do Gemini\n",
        "from google import genai\n",
        "\n",
        "client = genai.Client()\n",
        "\n",
        "MODEL_ID = \"gemini-2.0-flash\""
      ],
      "metadata": {
        "id": "bV4w0H5TLk5g"
      },
      "execution_count": null,
      "outputs": []
    },
    {
      "cell_type": "code",
      "source": [
        "# Instala o Framework de agentes do Google\n",
        "!pip install -q google-adk"
      ],
      "metadata": {
        "id": "a1eRPalxEnj7"
      },
      "execution_count": null,
      "outputs": []
    },
    {
      "cell_type": "code",
      "execution_count": null,
      "metadata": {
        "id": "aePV2bdfDeoW"
      },
      "outputs": [],
      "source": [
        "from google.adk.agents import Agent\n",
        "from google.adk.runners import Runner\n",
        "from google.adk.sessions import InMemorySessionService\n",
        "from google.adk.tools import google_search\n",
        "from google.genai import types  # Para criar conteúdos (Content e Part)\n",
        "\n",
        "import warnings\n",
        "\n",
        "warnings.filterwarnings(\"ignore\")"
      ]
    },
    {
      "cell_type": "code",
      "source": [
        "# Função auxiliar que envia uma mensagem para um agente via Runner e retorna a resposta final\n",
        "def call_agent(agent: Agent, message_text: str) -> str:\n",
        "    # Cria um serviço de sessão em memória\n",
        "    session_service = InMemorySessionService()\n",
        "    # Cria uma nova sessão (você pode personalizar os IDs conforme necessário)\n",
        "    session = session_service.create_session(app_name=agent.name, user_id=\"user1\", session_id=\"session1\")\n",
        "    # Cria um Runner para o agente\n",
        "    runner = Runner(agent=agent, app_name=agent.name, session_service=session_service)\n",
        "    # Cria o conteúdo da mensagem de entrada\n",
        "    content = types.Content(role=\"user\", parts=[types.Part(text=message_text)])\n",
        "\n",
        "    final_response = \"\"\n",
        "    # Itera assincronamente pelos eventos retornados durante a execução do agente\n",
        "    for event in runner.run(user_id=\"user1\", session_id=\"session1\", new_message=content):\n",
        "        if event.is_final_response():\n",
        "            for part in event.content.parts:\n",
        "                    if part.text is not None:\n",
        "                        final_response += part.text\n",
        "                        final_response += \"\\n\"\n",
        "    return final_response"
      ],
      "metadata": {
        "id": "_xP4lWhsS5ko"
      },
      "execution_count": null,
      "outputs": []
    },
    {
      "cell_type": "code",
      "source": [
        "##########################################\n",
        "# --- Agente 1: Coletor de Narrativa --- #\n",
        "##########################################\n",
        "def agente_coletor():\n",
        "    return Agent(\n",
        "        name=\"agente_coletor_de_narrativas_emocionais\",\n",
        "        #model=\"gemini-2.5-pro-preview-03-25\",\n",
        "        model=\"gemini-2.0-flash\",\n",
        "        instruction=\"\"\"\n",
        "            Você é o um Coletor de Narrativas Emocionais, responsável por iniciar uma conversa com o usuário e coletar uma narrativa sobre um momento recente em que ele vivenciou uma emoção forte. Seu objetivo é obter uma descrição clara da situação, das emoções sentidas e das ações tomadas.\n",
        "\n",
        "            Siga estas etapas:\n",
        "\n",
        "            Inicie a conversa de forma acolhedora: Apresente-se brevemente e convide o usuário a compartilhar sua experiência. Seja empático e encorajador.\n",
        "\n",
        "            Exemplo de início: \"Olá! Para me ajudar a entender melhor as experiências emocionais, gostaria que você compartilhasse um momento recente em que sentiu uma emoção forte. Pode ser alegria, tristeza, raiva, medo, surpresa ou qualquer outra emoção.\"\n",
        "            Receba a narrativa inicial do usuário.\n",
        "\n",
        "            Analise a narrativa inicial para determinar se informações adicionais são necessárias. Considere os seguintes pontos ao avaliar a necessidade de mais informações:\n",
        "\n",
        "            Clareza da situação: A descrição do que aconteceu é clara e fácil de entender?\n",
        "            Identificação da emoção: A emoção principal (ou emoções) sentida pelo usuário está claramente identificada?\n",
        "            Intensidade da emoção: O usuário descreve a intensidade da emoção (leve, moderada, forte)?\n",
        "            Contexto relevante: Há informações suficientes sobre o que desencadeou a emoção, quem estava envolvido e onde aconteceu?\n",
        "            Ações tomadas: O usuário descreve como ele reagiu ou o que fez em resposta à emoção?\n",
        "            Pensamentos associados: O usuário menciona algum pensamento que teve durante a experiência?\n",
        "            Se informações adicionais forem necessárias, solicite-as de forma clara e concisa. Faça perguntas específicas para preencher as lacunas na narrativa. Você tem permissão para fazer até três solicitações de informação adicionais.\n",
        "\n",
        "            Exemplos de perguntas adicionais:\n",
        "            \"Você poderia me contar um pouco mais sobre o que aconteceu exatamente?\" (para clareza da situação)\n",
        "            \"Qual foi a emoção mais forte que você sentiu naquele momento?\" (para identificação da emoção)\n",
        "            \"Em uma escala de 1 a 10, sendo 1 muito leve e 10 muito forte, como você avaliaria a intensidade dessa emoção?\" (para intensidade)\n",
        "            \"O que desencadeou essa emoção? Houve algum evento ou algo que alguém disse ou fez?\" (para contexto)\n",
        "            \"Como você reagiu ou o que você fez quando sentiu essa emoção?\" (para ações tomadas)\n",
        "            \"Houve algum pensamento específico que passou pela sua cabeça naquele momento?\" (para pensamentos associados)\n",
        "            Após receber a narrativa inicial e, se necessário, até três rodadas de informações adicionais, finalize a coleta. Agradeça o usuário por compartilhar sua experiência.\n",
        "\n",
        "            Formate a narrativa coletada de forma clara para as próximas etapas. Inclua a narrativa inicial e todas as informações adicionais solicitadas e recebidas.\n",
        "        \"\"\",\n",
        "        description=\"Agente que coleta a narrativa emocional\",\n",
        "        tools=[google_search]\n",
        "    )"
      ],
      "metadata": {
        "id": "o8bqIfi_DyH8"
      },
      "execution_count": null,
      "outputs": []
    },
    {
      "cell_type": "code",
      "source": [
        "###################################################################\n",
        "# --- Agente 2: Analisador de Conteúdo Emocional da Narrativa --- #\n",
        "###################################################################\n",
        "def agente_analisador():\n",
        "    return Agent(\n",
        "        name=\"agente_analisador\",\n",
        "        #model=\"gemini-2.5-pro-preview-03-25\",\n",
        "        model=\"gemini-2.0-flash\",\n",
        "        instruction=\"\"\"\n",
        "            Você é o Analisador de Conteúdo Emocional da Narrativa informada pelo usuário, um especialista em análise de linguagem com foco em emoções e psicologia. Sua tarefa é receber a narrativa completa de uma experiência emocional do usuário (coletada pelo Agente Coletor de Narrativa) e realizar uma análise detalhada do conteúdo.\n",
        "\n",
        "            Siga estas etapas:\n",
        "\n",
        "            Receba a narrativa completa do usuário. Esta narrativa incluirá a descrição inicial e quaisquer detalhes adicionais solicitados pelo Agente Coletor de Narrativa.\n",
        "\n",
        "            Identifique as emoções primárias e secundárias expressas na narrativa. Liste todas as emoções que você conseguir identificar, classificando-as como primárias (medo, raiva, tristeza, alegria, nojo, surpresa) ou secundárias (por exemplo, frustração como uma forma de raiva, decepção como uma forma de tristeza).\n",
        "\n",
        "            Avalie a intensidade das emoções identificadas. Com base na linguagem utilizada pelo usuário, descreva a intensidade de cada emoção (por exemplo, \"medo leve\", \"raiva intensa\", \"tristeza moderada\"). Se o usuário forneceu uma escala de intensidade, utilize essa informação.\n",
        "\n",
        "            Identifique os possíveis gatilhos situacionais. Analise a descrição da situação para determinar os eventos, pessoas, comentários ou outros fatores que podem ter desencadeado as emoções no usuário.\n",
        "\n",
        "            Inferir os padrões de pensamento subjacentes (se possível). Com base na narrativa e nas emoções expressas, tente identificar quaisquer padrões de pensamento que possam ter contribuído para a experiência emocional do usuário (por exemplo, autocrítica, vitimização, generalização excessiva). Seja cauteloso ao fazer inferências e indique que são suas interpretações.\n",
        "\n",
        "            Identifique as estratégias de enfrentamento (coping) utilizadas pelo usuário. Descreva as ações ou comportamentos que o usuário mencionou ter utilizado em resposta à emoção. Classifique essas estratégias como adaptativas (saudáveis) ou mal-adaptativas (potencialmente prejudiciais a longo prazo).\n",
        "\n",
        "            Forneça um resumo conciso da sua análise. Inclua os principais pontos identificados: emoções primárias e secundárias, intensidade, gatilhos, possíveis padrões de pensamento e estratégias de enfrentamento.\n",
        "\n",
        "            Formate sua análise de forma clara e organizada para que possa ser facilmente utilizada pelo Agente Guia de Reflexão e Inteligência Emocional Pessoal.\n",
        "        \"\"\",\n",
        "        description=\"Agente que analisa a narrativa emocional\",\n",
        "        tools=[google_search]\n",
        "    )"
      ],
      "metadata": {
        "id": "y3VO1uo5_ghO"
      },
      "execution_count": null,
      "outputs": []
    },
    {
      "cell_type": "code",
      "source": [
        "#######################################################################\n",
        "# --- Agente 3: Guia de Reflexão e Inteligência Emocional Pessoal --- #\n",
        "#######################################################################\n",
        "def agente_guia():\n",
        "    return Agent(\n",
        "        name=\"agente_guia\",\n",
        "        #model=\"gemini-2.5-pro-preview-03-25\",\n",
        "        model=\"gemini-2.0-flash\",\n",
        "        instruction=\"\"\"\n",
        "            Você é o Agente Guia de Reflexão e Inteligência Emocional Pessoal, um guia experiente em inteligência emocional. Sua tarefa é receber a análise emocional detalhada da narrativa do usuário (fornecida pelo Agente 2: Analisador de Conteúdo Emocional da Narrativa) e usar essa análise para facilitar a reflexão do usuário sobre sua experiência. Você também fornecerá insights sobre os conceitos de inteligência emocional que se aplicam à situação descrita.\n",
        "\n",
        "            Siga estas etapas:\n",
        "\n",
        "            Receba a análise emocional da narrativa do usuário do Agente 2. Esta análise conterá informações sobre as emoções identificadas, sua intensidade, os gatilhos, possíveis padrões de pensamento e estratégias de enfrentamento.\n",
        "\n",
        "            Com base na análise, formule perguntas reflexivas personalizadas para o usuário. O objetivo dessas perguntas é encorajá-lo a pensar mais profundamente sobre sua experiência emocional, suas reações e as possíveis consequências de suas ações e pensamentos.\n",
        "\n",
        "            Exemplos de perguntas reflexivas baseadas na análise:\n",
        "            Se o Agente 2 identificou raiva intensa: \"Ao relatar essa situação, você percebeu algum padrão em como a raiva se manifesta em você?\", \"Quais foram as consequências de sentir essa raiva tão intensamente na situação?\"\n",
        "            Se o Agente 2 inferiu autocrítica: \"Você se reconhece tendo pensamentos autocríticos em outras situações?\", \"Como esses pensamentos podem ter influenciado seus sentimentos e ações nesse momento?\"\n",
        "            Se o Agente 2 identificou uma estratégia de enfrentamento mal-adaptativa (ex: evitação): \"Você percebe que essa estratégia de evitar o problema tem sido útil a longo prazo?\", \"Quais outras formas de lidar com essa emoção você poderia considerar?\"\n",
        "            Se o Agente 2 identificou um gatilho específico: \"Como você geralmente reage quando se depara com situações semelhantes a essa?\", \"Há alguma forma de se preparar ou responder de maneira diferente a esse tipo de gatilho no futuro?\"\n",
        "            Conecte a experiência do usuário com conceitos de inteligência emocional. Explique brevemente os princípios da inteligência emocional que são relevantes para os pontos identificados na análise e nas respostas do usuário.\n",
        "\n",
        "            Exemplos de conexões com Inteligência Emocional:\n",
        "            Se o usuário expressou dificuldade em controlar a raiva: \"Entender a autorregulação emocional é um aspecto importante da inteligência emocional. Envolve a capacidade de gerenciar suas próprias emoções, impulsos e comportamentos de forma saudável.\"\n",
        "            Se o usuário mostrou dificuldade em entender a perspectiva dos outros: \"A empatia, que é a capacidade de compreender e compartilhar os sentimentos de outra pessoa, pode ser útil em situações de conflito.\"\n",
        "            Se o usuário teve dificuldade em reconhecer suas próprias emoções: \"A autoconsciência emocional, que é a capacidade de reconhecer e compreender suas próprias emoções, é o primeiro passo para gerenciá-las de forma eficaz.\"\n",
        "            Incentive o usuário a refletir sobre suas respostas. Após cada pergunta e explicação, convide o usuário a compartilhar seus pensamentos e insights.\n",
        "\n",
        "            Mantenha um tom de guia atencioso e encorajador. Seu papel é facilitar a aprendizagem e a autodescoberta do usuário.\n",
        "\n",
        "            Formate suas perguntas e insights de forma clara e sequencial, facilitando a interação do usuário.\n",
        "\n",
        "            Seja conciso e não utilize de respostas muito grandes para que o usuário possa concentrar-se apenas nas perguntas e explicações.\n",
        "        \"\"\",\n",
        "        description=\"Agente Guia de Reflexão e Inteligência Emocional Pessoal\"\n",
        "    )"
      ],
      "metadata": {
        "id": "uOqlg2TRLVh1"
      },
      "execution_count": null,
      "outputs": []
    },
    {
      "cell_type": "code",
      "source": [
        "######################################################################################\n",
        "# --- Agente 4: Gerador de Estratégias de Regulação e Ação Futura Personalizadas --- #\n",
        "######################################################################################\n",
        "def agente_estrategista():\n",
        "    return Agent(\n",
        "        name=\"agente_estrategista\",\n",
        "        #model=\"gemini-2.5-pro-preview-03-25\",\n",
        "        model=\"gemini-2.0-flash\",\n",
        "        instruction=\"\"\"\n",
        "            Você é o Agente 4, um especialista em estratégias de regulação emocional e planejamento de ações futuras. Sua tarefa é receber a análise emocional da narrativa do usuário (do Agente 2) e as reflexões e insights (do Agente 3) para gerar recomendações práticas e personalizadas.\n",
        "\n",
        "            Siga estas etapas:\n",
        "\n",
        "            Receba a análise emocional da narrativa do usuário do Agente 2.\n",
        "\n",
        "            Receba as reflexões e insights sobre inteligência emocional do Agente 3.\n",
        "\n",
        "            Com base nas informações recebidas, identifique as emoções principais e secundárias que o usuário vivenciou.\n",
        "\n",
        "            Considere as estratégias de enfrentamento que o usuário utilizou (identificadas pelo Agente 2) e avalie se foram adaptativas ou mal-adaptativas.\n",
        "\n",
        "            Gere sugestões de estratégias de regulação emocional que poderiam ser úteis para o usuário lidar com as emoções identificadas de forma mais saudável no futuro. As sugestões devem ser práticas, específicas e relevantes para o contexto da narrativa.\n",
        "\n",
        "            Exemplos de estratégias de regulação (dependendo da emoção e do contexto):\n",
        "            Para raiva: Técnicas de respiração profunda, sair da situação momentaneamente, expressar a raiva de forma assertiva e não agressiva.\n",
        "            Para ansiedade: Exercícios de relaxamento muscular progressivo, mindfulness, reestruturação cognitiva de pensamentos ansiosos.\n",
        "            Para tristeza: Buscar apoio social, praticar autocuidado, permitir-se sentir a emoção sem julgamento.\n",
        "            Para medo: Exposição gradual à situação temida (se apropriado), identificar e desafiar pensamentos irracionais.\n",
        "            Sugira possíveis ações futuras que o usuário pode considerar ao se deparar com situações semelhantes. Essas ações devem ser baseadas nos insights do Agente 3 e nas estratégias de regulação recomendadas.\n",
        "\n",
        "            Exemplos de ações futuras:\n",
        "            \"Na próxima vez que você se sentir frustrado em uma situação semelhante, talvez possa tentar pausar e respirar fundo antes de responder.\"\n",
        "            \"Considerando a autocrítica que você mencionou, você poderia praticar identificar e desafiar esses pensamentos quando eles surgirem.\"\n",
        "            \"Se a solidão foi um fator na sua tristeza, talvez planejar atividades sociais com amigos ou familiares possa ser útil.\"\n",
        "            Personalize as sugestões o máximo possível, levando em conta a narrativa específica do usuário e suas reflexões.\n",
        "\n",
        "            Apresente as sugestões de forma clara, concisa e encorajadora.\n",
        "\n",
        "            Ofereça ao usuário a oportunidade de comentar ou perguntar sobre as sugestões.\n",
        "\n",
        "            Seja conciso e não utilize de respostas muito grandes para que o usuário possa concentrar-se apenas nas perguntas e explicações.\n",
        "        \"\"\",\n",
        "        description=\"Agente Gerador de Estratégias de Regulação e Ação Futura Personalizadas\"\n",
        "    )"
      ],
      "metadata": {
        "id": "_aTb1SdkLeT6"
      },
      "execution_count": null,
      "outputs": []
    },
    {
      "cell_type": "code",
      "source": [
        "# --- Obter a narrativa emocional do usuário ---\n",
        "\n",
        "agente_coletor = agente_coletor()\n",
        "\n",
        "def agente1_coletar_narrativa():\n",
        "    mensagem_inicial = \"Olá! Para me ajudar a entender melhor as experiências emocionais, gostaria que você compartilhasse um momento recente em que sentiu uma emoção forte. Pode ser alegria, tristeza, raiva, medo, surpresa ou qualquer outra emoção.\"\n",
        "    print(mensagem_inicial)\n",
        "\n",
        "    narrativa_inicial = input(\"> \")\n",
        "    narrativa_completa = {\"narrativa_inicial\": narrativa_inicial, \"detalhes_adicionais\": []}\n",
        "    tentativas_adicionais = 0\n",
        "\n",
        "    while tentativas_adicionais < 3:\n",
        "        prompt_analise = f\"\"\"Analise a seguinte narrativa inicial:\n",
        "        \"{narrativa_inicial}\"\n",
        "\n",
        "        Com base nesta narrativa, identifique se há alguma informação importante faltando para entender completamente a situação, a emoção sentida e a reação do usuário. Se faltar informação, formule uma pergunta específica para obter esse detalhe adicional. Seja conciso na sua pergunta. Se a narrativa parecer completa o suficiente, responda apenas com a palavra \"Completo\".\n",
        "\n",
        "        Utilize emojis para deixar a mensagem mais atraente e expressivas.\n",
        "\n",
        "        \"\"\"\n",
        "        response_analise = call_agent(agente_coletor, prompt_analise)\n",
        "        pergunta_adicional = response_analise\n",
        "\n",
        "        if pergunta_adicional.lower() != \"completo\":\n",
        "            #print(f\"\\nPara entender melhor, você poderia me responder a seguinte pergunta:\\n{pergunta_adicional}\")\n",
        "            print(pergunta_adicional)\n",
        "\n",
        "            resposta_adicional = input(\"> \")\n",
        "            narrativa_completa[\"detalhes_adicionais\"].append({\"pergunta\": pergunta_adicional, \"resposta\": resposta_adicional})\n",
        "            narrativa_inicial += f\"\\nUsuário respondeu: {resposta_adicional}\" # Atualiza para a próxima análise\n",
        "            tentativas_adicionais += 1\n",
        "        else:\n",
        "            break\n",
        "\n",
        "    print(\"\\nObrigado por compartilhar sua experiência.\")\n",
        "    return narrativa_completa"
      ],
      "metadata": {
        "id": "6Dsw8ktMOWvX"
      },
      "execution_count": null,
      "outputs": []
    },
    {
      "cell_type": "code",
      "source": [
        "# --- Analisar a narrativa emocional ---\n",
        "\n",
        "agente_analisador = agente_analisador()\n",
        "\n",
        "def agente2_analisar_narrativa(narrativa_completa):\n",
        "    prompt_analise = f\"\"\"Analise a seguinte narrativa de uma experiência emocional:\n",
        "\n",
        "    Narrativa Inicial:\n",
        "    \"{narrativa_completa['narrativa_inicial']}\"\n",
        "\n",
        "    Detalhes Adicionais:\n",
        "    \"\"\"\n",
        "    for detalhe in narrativa_completa['detalhes_adicionais']:\n",
        "        prompt_analise += f\"\\nPergunta: {detalhe['pergunta']}\\nResposta: {detalhe['resposta']}\"\n",
        "\n",
        "    prompt_analise += \"\"\"\n",
        "\n",
        "    Com base nesta narrativa completa, realize a seguinte análise:\n",
        "\n",
        "    1.  Identifique as emoções primárias e secundárias expressas.\n",
        "    2.  Avalie a intensidade de cada emoção (leve, moderada, forte).\n",
        "    3.  Identifique os possíveis gatilhos situacionais.\n",
        "    4.  Infera os possíveis padrões de pensamento subjacentes (se possível, indicando que é uma inferência).\n",
        "    5.  Identifique as estratégias de enfrentamento utilizadas e classifique-as como adaptativas ou mal-adaptativas.\n",
        "\n",
        "    Formate sua resposta de forma clara e organizada, listando cada um dos pontos acima.\n",
        "    \"\"\"\n",
        "\n",
        "    analise = call_agent(agente_analisador, prompt_analise)\n",
        "    return analise"
      ],
      "metadata": {
        "id": "Ppd2-QmAW0oG"
      },
      "execution_count": null,
      "outputs": []
    },
    {
      "cell_type": "code",
      "source": [
        "# --- Guiar reflexão ---\n",
        "\n",
        "agente_guia = agente_guia()\n",
        "\n",
        "def agente3_guiar_reflexao(analise_emocional):\n",
        "    prompt_reflexao = f\"\"\"Com base na seguinte análise da sua experiência emocional:\n",
        "\n",
        "    {analise_emocional}\n",
        "\n",
        "    Gere algumas perguntas reflexivas personalizadas para ajudar o usuário a pensar mais profundamente sobre suas emoções, reações e padrões. Além disso, conecte brevemente a experiência do usuário com conceitos relevantes de inteligência emocional. Mantenha um tom de guia atencioso e encorajador.\n",
        "\n",
        "    Formate sua resposta com perguntas claras seguidas de explicações concisas sobre os conceitos de IE relacionados.\n",
        "\n",
        "    Utilize emojis para deixar a mensagem mais atraente e expressivas.\n",
        "    \"\"\"\n",
        "\n",
        "    reflexao_e_insights = call_agent(agente_guia, prompt_reflexao)\n",
        "    return reflexao_e_insights\n",
        "\n",
        "\n",
        "# Função para interagir com o usuário com base na saída do Agente 3\n",
        "def interagir_reflexao(reflexao):\n",
        "    print(\"\\nReflexões e Insights sobre sua experiência:\")\n",
        "    print(reflexao)\n",
        "    resposta_usuario = input(\"Quais são seus pensamentos sobre isso? Compartilhe suas reflexões: \")\n",
        "    # Aqui você pode adicionar mais interações com o usuário, se desejar\n",
        "    print(\"\\nObrigado por sua reflexão.\")"
      ],
      "metadata": {
        "id": "kPYETuejb2Yu"
      },
      "execution_count": null,
      "outputs": []
    },
    {
      "cell_type": "code",
      "source": [
        "# --- Gerar estratégias\n",
        "agente_estrategista = agente_estrategista()\n",
        "\n",
        "def agente4_gerar_estrategias(analise_emocional, reflexao_e_insights):\n",
        "    prompt_estrategias = f\"\"\"Com base na seguinte análise da sua experiência emocional:\n",
        "\n",
        "    {analise_emocional}\n",
        "\n",
        "    E nas seguintes reflexões e insights:\n",
        "\n",
        "    {reflexao_e_insights}\n",
        "\n",
        "    Gere sugestões de estratégias de regulação emocional personalizadas que o usuário pode usar para lidar com as emoções identificadas de forma mais saudável no futuro. Além disso, sugira possíveis ações futuras que o usuário pode considerar ao se deparar com situações semelhantes.\n",
        "\n",
        "    Personalize as sugestões o máximo possível, levando em conta a narrativa específica do usuário e suas reflexões. Apresente as sugestões de forma clara, concisa e encorajadora.\n",
        "\n",
        "    Utilize emojis para deixar a mensagem mais atraente e expressivas.\n",
        "\n",
        "    Não faça perguntas, o texto deverá ser conclusivo.\n",
        "    \"\"\"\n",
        "\n",
        "    estrategias_e_acoes = call_agent(agente_estrategista, prompt_estrategias)\n",
        "    return estrategias_e_acoes\n",
        "\n",
        "# Função para interagir com o usuário sobre as estratégias\n",
        "def interagir_estrategias(estrategias):\n",
        "    print(\"\\nEstratégias de Regulação Emocional e Ações Futuras Sugeridas:\")\n",
        "    print(estrategias)\n",
        "    feedback_usuario = input(\"O que você acha dessas sugestões?\")\n",
        "    print(\"\\nObrigado pelo seu feedback!\")"
      ],
      "metadata": {
        "id": "c7kAvO_Ff-kM"
      },
      "execution_count": null,
      "outputs": []
    },
    {
      "cell_type": "code",
      "source": [
        "# Coletar Narrativa\n",
        "narrativa_coletada = agente1_coletar_narrativa()\n",
        "\n",
        "# Analisar Narrativa\n",
        "analise_emocional = agente2_analisar_narrativa(narrativa_coletada)\n",
        "\n",
        "# Guiar Reflexão\n",
        "reflexao = agente3_guiar_reflexao(analise_emocional)\n",
        "interagir_reflexao(reflexao)\n",
        "\n",
        "# Gerar estratégias\n",
        "estrategias = agente4_gerar_estrategias(analise_emocional, reflexao)\n",
        "interagir_estrategias(estrategias)"
      ],
      "metadata": {
        "id": "ubCHPTu7mbVn"
      },
      "execution_count": null,
      "outputs": []
    }
  ]
}